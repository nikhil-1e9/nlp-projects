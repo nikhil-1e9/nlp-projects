{
 "cells": [
  {
   "cell_type": "code",
   "execution_count": 2,
   "metadata": {},
   "outputs": [],
   "source": [
    "import numpy as np\n",
    "import pandas as pd\n",
    "\n",
    "import re\n",
    "import pickle\n",
    "import random\n",
    "from tqdm import tqdm_notebook\n",
    "\n",
    "import torch\n",
    "from torch import nn\n",
    "import torch.nn.functional as F"
   ]
  },
  {
   "cell_type": "code",
   "execution_count": 4,
   "metadata": {},
   "outputs": [
    {
     "data": {
      "text/plain": [
       "<torch._C.Generator at 0x1fc9c182b70>"
      ]
     },
     "execution_count": 4,
     "metadata": {},
     "output_type": "execute_result"
    }
   ],
   "source": [
    "# reproducing same results\n",
    "SEED = 42\n",
    "torch.manual_seed(SEED)"
   ]
  },
  {
   "cell_type": "markdown",
   "metadata": {},
   "source": [
    "# Load Dataset"
   ]
  },
  {
   "cell_type": "code",
   "execution_count": 5,
   "metadata": {},
   "outputs": [],
   "source": [
    "with open(\"wikitext-2/wiki-train.txt\", \"r\") as f:\n",
    "    text = f.readlines()"
   ]
  },
  {
   "cell_type": "code",
   "execution_count": 7,
   "metadata": {},
   "outputs": [
    {
     "data": {
      "text/plain": [
       "36718"
      ]
     },
     "execution_count": 7,
     "metadata": {},
     "output_type": "execute_result"
    }
   ],
   "source": [
    "len(text)"
   ]
  },
  {
   "cell_type": "code",
   "execution_count": 8,
   "metadata": {},
   "outputs": [
    {
     "data": {
      "text/plain": [
       "[' \\n',\n",
       " ' Literary critic Mark <unk> Winchell believed that Brooks and Warren \\'s criticism of Kilmer \\'s poem was chiefly to demonstrate that \" it is sometimes possible to learn as much about poetry from bad poems as from good ones . \" \\n',\n",
       " ' \\n',\n",
       " ' \\n',\n",
       " ' = = <unk> characteristics = = \\n',\n",
       " ' \\n',\n",
       " ' <unk> \" <unk> \" Davis – mixing \\n',\n",
       " ' \\n',\n",
       " ' The Assembly resolved , after some debate , that all the doctrines of the Thirty @-@ Nine articles would need to be proven from the Bible . Assembly members were prone to long speeches and they made slow progress , frustrating the leadership . The eighth of the Thirty @-@ Nine Articles recommended the Apostles \\' Creed , <unk> Creed , and <unk> Creed , considered to be basic statements of <unk> , to be received and believed . The Assembly was unable to resolve conflicts between those who would not be bound by creeds and those who wished to retain the existing language that the creeds be \" thoroughly received and believed \" . The \" <unk> \" , who took the former position , argued that the articles only require the \" matter \" of the creeds be believed . On 25 August the article was put off until the rest of the articles could be dealt with . This early disagreement on fundamental issues revealed deep rifts between different factions of the assembly . \\n',\n",
       " ' Priestley contended that Walpole had fulfilled his early potential , unlike Compton Mackenzie , Gilbert Cannan and other promising young novelists of his generation . This view was not universal among critics : Walpole sometimes divided opinion . Writing of Walpole \\'s Russian novels the contemporary critic and novelist Douglas <unk> commented , \" Russia has been the grave of many <unk> ; and our Napoleon of the drawing @-@ room novel has fared no better than other would @-@ be <unk> of that disconcerting land . \" <unk> \\'s complaint was that Walpole \\'s Russian ( and English ) characters were clichéd stereotypes . The reviewer in Punch , by contrast , wrote , \" I consulted a Russian , who is very much alive , and received the opinion that , if Mr. Walpole has not succeeded in drawing the real average Russian , he has given us a type whose faults and virtues sound the <unk> of the situation as it is to @-@ day . \" The Observer rated The Dark Forest as \" one of the finest novels of our generation \" . \\n']"
      ]
     },
     "execution_count": 8,
     "metadata": {},
     "output_type": "execute_result"
    }
   ],
   "source": [
    "random.sample(text, 10)"
   ]
  },
  {
   "cell_type": "markdown",
   "metadata": {},
   "source": [
    "# Preprocessing Data\n",
    "## Text Cleaning"
   ]
  },
  {
   "cell_type": "code",
   "execution_count": 9,
   "metadata": {},
   "outputs": [],
   "source": [
    "# text cleaning\n",
    "text_clean = []\n",
    "\n",
    "for line in text:\n",
    "    # remove everything except alphabets\n",
    "    line = re.sub(\"[^a-zA-Z' ]\", \"\", line)\n",
    "    # convert text to lowercase and remove extra spaces\n",
    "    line = line.strip().lower()\n",
    "    # add cleaned text to the list\n",
    "    if len(line) > 0:\n",
    "        text_clean.append(line)"
   ]
  },
  {
   "cell_type": "code",
   "execution_count": 10,
   "metadata": {},
   "outputs": [
    {
     "data": {
      "text/plain": [
       "[\"maryland route   md   is a state highway in the us state of maryland  the state highway runs    miles     km  from md  in ceresville north to the pennsylvania state line near taneytown  where the highway continues as pennsylvania route   pa   toward hanover  md  is the main highway between frederick and hanover  the state highway connects the towns of walkersville and woodsboro in northeastern frederick county with keymar and taneytown in northwestern carroll county  md  was blazed as a migration route in the th century and a pair of turnpikes in frederick county in the th century  one of which was the last private toll road in maryland  the state highway  which was originally designated md   was built as a modern highway in frederick county in the mid  s and constructed as francis scott key highway in carroll county in the late s and early s  md  received its modern route number in  as part of a three  route number swap  the state highway 's bypasses of walkersville and woodsboro opened in the early s and mid  s  respectively\",\n",
       " 'miss prism  mrs george unk',\n",
       " \"hamels was called up to the philadelphia phillies in may   in his major league baseball debut on may   he pitched five scoreless innings  allowing one hit  striking out seven batters  walked five  while earning a no  decision against the cincinnati reds  in his second career start  hamels was dominant until the seventh inning  during which he was pulled after he allowed several baserunners  but again received a no  decision  a shoulder injury unk hamels from the lineup of what would have originally been his third major league start  he was put on the   day disabled list and returned on june  to defeat the arizona unk    for his first major league victory  on august     hamels had his best start of his rookie season  shutting out the new york mets over eight innings and striking out nine in the phillies '    victory  he finished his rookie season with a    record  a    earned run average  era   and  strikeouts  third among nl unk  in     innings  sixth among nl unk\",\n",
       " \"the classical influences keats invoked affected other romantic poets  but his odes contain a higher degree of allusion than most of his contemporaries ' works  as for the main theme  indolence and poetry  the poem reflects the emotional state of being keats describes in an early  letter to his brother george\",\n",
       " 'bronx zoo',\n",
       " 'jonny buckland  electric guitar',\n",
       " 'before the season',\n",
       " 'mogadishu is situated on the indian ocean coast of the horn of africa  in the banaadir administrative region  unk  in southeastern somalia  the region itself is unk with the city and is much smaller than the historical province of benadir  the city is administratively divided into the districts of unk  unk  unk  unk  hamar  unk  hamar  unk  unk  unk  unk  unk  karan  unk  unk  unk  unk  unk and unk  features of the city include the unk old town  the unk market  and unk beach  the sandy beaches of mogadishu have vibrant coral reefs  and are prime real estate for the first tourist resorts in many years',\n",
       " 'unk',\n",
       " 'lgrimas clidas']"
      ]
     },
     "execution_count": 10,
     "metadata": {},
     "output_type": "execute_result"
    }
   ],
   "source": [
    "random.sample(text_clean, 10)"
   ]
  },
  {
   "cell_type": "markdown",
   "metadata": {},
   "source": [
    "## Find word counts"
   ]
  },
  {
   "cell_type": "code",
   "execution_count": 11,
   "metadata": {},
   "outputs": [],
   "source": [
    "# get list of all the words\n",
    "all_words = \" \".join(text_clean).split()\n",
    "\n",
    "words_dict = {}\n",
    "\n",
    "# add word-count pair to the dictionary\n",
    "for word in all_words:\n",
    "    words_dict[word] = words_dict.get(word, 0) + 1"
   ]
  },
  {
   "cell_type": "code",
   "execution_count": 12,
   "metadata": {},
   "outputs": [],
   "source": [
    "# prepare a dataframe\n",
    "words_df = pd.DataFrame({'word':list(words_dict.keys()), 'count':list(words_dict.values())})\n",
    "\n",
    "# sort words by their count in increasing order\n",
    "words_df = words_df.sort_values(by='count')\n",
    "\n",
    "# reset dataframe index\n",
    "words_df.reset_index(inplace=True, drop=True)"
   ]
  },
  {
   "cell_type": "code",
   "execution_count": 13,
   "metadata": {},
   "outputs": [
    {
     "data": {
      "text/plain": [
       "27306"
      ]
     },
     "execution_count": 13,
     "metadata": {},
     "output_type": "execute_result"
    }
   ],
   "source": [
    "# vocabulary size\n",
    "len(words_df)"
   ]
  },
  {
   "cell_type": "code",
   "execution_count": 14,
   "metadata": {},
   "outputs": [
    {
     "data": {
      "text/html": [
       "<div>\n",
       "<style scoped>\n",
       "    .dataframe tbody tr th:only-of-type {\n",
       "        vertical-align: middle;\n",
       "    }\n",
       "\n",
       "    .dataframe tbody tr th {\n",
       "        vertical-align: top;\n",
       "    }\n",
       "\n",
       "    .dataframe thead th {\n",
       "        text-align: right;\n",
       "    }\n",
       "</style>\n",
       "<table border=\"1\" class=\"dataframe\">\n",
       "  <thead>\n",
       "    <tr style=\"text-align: right;\">\n",
       "      <th></th>\n",
       "      <th>word</th>\n",
       "      <th>count</th>\n",
       "    </tr>\n",
       "  </thead>\n",
       "  <tbody>\n",
       "    <tr>\n",
       "      <th>27301</th>\n",
       "      <td>in</td>\n",
       "      <td>44982</td>\n",
       "    </tr>\n",
       "    <tr>\n",
       "      <th>27302</th>\n",
       "      <td>and</td>\n",
       "      <td>50735</td>\n",
       "    </tr>\n",
       "    <tr>\n",
       "      <th>27303</th>\n",
       "      <td>unk</td>\n",
       "      <td>54625</td>\n",
       "    </tr>\n",
       "    <tr>\n",
       "      <th>27304</th>\n",
       "      <td>of</td>\n",
       "      <td>57030</td>\n",
       "    </tr>\n",
       "    <tr>\n",
       "      <th>27305</th>\n",
       "      <td>the</td>\n",
       "      <td>130768</td>\n",
       "    </tr>\n",
       "  </tbody>\n",
       "</table>\n",
       "</div>"
      ],
      "text/plain": [
       "      word   count\n",
       "27301   in   44982\n",
       "27302  and   50735\n",
       "27303  unk   54625\n",
       "27304   of   57030\n",
       "27305  the  130768"
      ]
     },
     "execution_count": 14,
     "metadata": {},
     "output_type": "execute_result"
    }
   ],
   "source": [
    "words_df.tail()"
   ]
  },
  {
   "cell_type": "markdown",
   "metadata": {},
   "source": [
    "# Data Preparation"
   ]
  },
  {
   "cell_type": "code",
   "execution_count": 15,
   "metadata": {},
   "outputs": [
    {
     "data": {
      "image/png": "[encoded data removed]",
      "text/plain": [
       "<Figure size 640x480 with 1 Axes>"
      ]
     },
     "metadata": {},
     "output_type": "display_data"
    }
   ],
   "source": [
    "# capture length of all the sequences\n",
    "text_word_count = []\n",
    "for sent in text_clean:\n",
    "    text_word_count.append(len(sent.split()))\n",
    "        \n",
    "# plot the sequence lengths\n",
    "pd.Series(text_word_count).hist(bins=100, range=(0,300));"
   ]
  },
  {
   "cell_type": "code",
   "execution_count": null,
   "metadata": {},
   "outputs": [],
   "source": [
    "# function to create sequences of equal length\n",
    "def create_seq(text, seq_len=25):\n",
    "    sequences = []\n",
    "  \n",
    "    if len(text.split()) > seq_len:\n",
    "        for i in range(seq_len, len(text.split())):\n",
    "            # select sequence of tokens\n",
    "            seq = text.split()[i-seq_len:i+1]\n",
    "            # append sequence to the list\n",
    "            sequences.append(\" \".join(seq))\n",
    "        return sequences\n",
    "    \n",
    "    else:\n",
    "        return [text]\n",
    "\n",
    "# create sequences of equal length\n",
    "seqs = []\n",
    "for text in text_clean:\n",
    "    seqs.extend(create_seq(text))"
   ]
  },
  {
   "cell_type": "code",
   "execution_count": 21,
   "metadata": {},
   "outputs": [
    {
     "data": {
      "text/plain": [
       "['valkyria chronicles iii',\n",
       " 'senj no valkyria unk chronicles japanese lit valkyria of the battlefield commonly referred to as valkyria chronicles iii outside japan is a tactical role playing video',\n",
       " 'no valkyria unk chronicles japanese lit valkyria of the battlefield commonly referred to as valkyria chronicles iii outside japan is a tactical role playing video game',\n",
       " 'valkyria unk chronicles japanese lit valkyria of the battlefield commonly referred to as valkyria chronicles iii outside japan is a tactical role playing video game developed',\n",
       " 'unk chronicles japanese lit valkyria of the battlefield commonly referred to as valkyria chronicles iii outside japan is a tactical role playing video game developed by',\n",
       " 'chronicles japanese lit valkyria of the battlefield commonly referred to as valkyria chronicles iii outside japan is a tactical role playing video game developed by sega',\n",
       " 'japanese lit valkyria of the battlefield commonly referred to as valkyria chronicles iii outside japan is a tactical role playing video game developed by sega and',\n",
       " 'lit valkyria of the battlefield commonly referred to as valkyria chronicles iii outside japan is a tactical role playing video game developed by sega and mediavision',\n",
       " 'valkyria of the battlefield commonly referred to as valkyria chronicles iii outside japan is a tactical role playing video game developed by sega and mediavision for',\n",
       " 'of the battlefield commonly referred to as valkyria chronicles iii outside japan is a tactical role playing video game developed by sega and mediavision for the']"
      ]
     },
     "execution_count": 21,
     "metadata": {},
     "output_type": "execute_result"
    }
   ],
   "source": [
    "seqs[:10]"
   ]
  },
  {
   "cell_type": "code",
   "execution_count": 22,
   "metadata": {},
   "outputs": [
    {
     "data": {
      "text/plain": [
       "1297882"
      ]
     },
     "execution_count": 22,
     "metadata": {},
     "output_type": "execute_result"
    }
   ],
   "source": [
    "# count of sequences\n",
    "len(seqs)"
   ]
  },
  {
   "cell_type": "code",
   "execution_count": 23,
   "metadata": {},
   "outputs": [],
   "source": [
    "# create input and target sequences (x and y)\n",
    "x = []\n",
    "y = []\n",
    "\n",
    "for s in seqs:\n",
    "  x.append(\" \".join(s.split()[:-1]))\n",
    "  y.append(\" \".join(s.split()[1:]))"
   ]
  },
  {
   "cell_type": "code",
   "execution_count": null,
   "metadata": {},
   "outputs": [
    {
     "data": {
      "text/plain": [
       "('portable released in january in japan it is the third game in the valkyria series unk the same fusion of tactical and real time gameplay',\n",
       " 'released in january in japan it is the third game in the valkyria series unk the same fusion of tactical and real time gameplay as')"
      ]
     },
     "execution_count": 25,
     "metadata": {},
     "output_type": "execute_result"
    }
   ],
   "source": [
    "# Look at sample input, target pairs\n",
    "x[36], y[36]"
   ]
  },
  {
   "cell_type": "markdown",
   "metadata": {},
   "source": [
    "## Create Token-Integer Mappings"
   ]
  },
  {
   "cell_type": "code",
   "execution_count": 26,
   "metadata": {},
   "outputs": [],
   "source": [
    "# create integer-to-token mapping\n",
    "int2token = {}\n",
    "cnt = 1\n",
    "\n",
    "for word in set(\" \".join(text_clean).split()):\n",
    "    int2token[cnt] = word\n",
    "    cnt += 1\n",
    "\n",
    "# create token-to-integer mapping\n",
    "token2int = {word: i for i, word in int2token.items()}"
   ]
  },
  {
   "cell_type": "code",
   "execution_count": 28,
   "metadata": {},
   "outputs": [
    {
     "data": {
      "text/plain": [
       "('plating', 14056)"
      ]
     },
     "execution_count": 28,
     "metadata": {},
     "output_type": "execute_result"
    }
   ],
   "source": [
    "int2token[262], token2int['grey']"
   ]
  },
  {
   "cell_type": "markdown",
   "metadata": {},
   "source": [
    "## Split Data into Train and Validation Sets"
   ]
  },
  {
   "cell_type": "code",
   "execution_count": 29,
   "metadata": {},
   "outputs": [],
   "source": [
    "# train-validation split\n",
    "# input sequences\n",
    "x_tr = x[:1000000]\n",
    "x_val = x[1000000:]\n",
    "\n",
    "# target sequences\n",
    "y_tr = y[:1000000]\n",
    "y_val = y[1000000:]"
   ]
  },
  {
   "cell_type": "markdown",
   "metadata": {},
   "source": [
    "## Pad Sequences"
   ]
  },
  {
   "cell_type": "code",
   "execution_count": null,
   "metadata": {},
   "outputs": [
    {
     "data": {
      "text/plain": [
       "<Axes: >"
      ]
     },
     "execution_count": 34,
     "metadata": {},
     "output_type": "execute_result"
    },
    {
     "data": {
      "image/png": "[encoded data removed]",
      "text/plain": [
       "<Figure size 640x480 with 1 Axes>"
      ]
     },
     "metadata": {},
     "output_type": "display_data"
    }
   ],
   "source": [
    "# plot sequence length in train set\n",
    "text_word_count = []\n",
    "\n",
    "for sent in x_tr:\n",
    "    text_word_count.append(len(sent.split()))\n",
    "\n",
    "pd.Series(text_word_count).hist(bins=20, range=(0,30));"
   ]
  },
  {
   "cell_type": "code",
   "execution_count": 35,
   "metadata": {},
   "outputs": [],
   "source": [
    "# based on the plot above\n",
    "max_text_len = 25\n",
    "\n",
    "# function to perform padding\n",
    "def pad_sequence(seq, n):\n",
    "\n",
    "    # split input sequence into tokens\n",
    "    seq = seq.split()\n",
    "    \n",
    "    # check if no. of tokens in input sequence is less than 'n'\n",
    "    if len(seq) < n:\n",
    "        for i in range(n-len(seq)):\n",
    "            seq.append(\"<pad>\")\n",
    "\n",
    "    return \" \".join(seq)\n",
    "\n",
    "# pad text sequences (train set)\n",
    "x_tr_padded = [pad_sequence(s, max_text_len) for s in x_tr]\n",
    "y_tr_padded = [pad_sequence(s, max_text_len) for s in y_tr]\n",
    "\n",
    "# pad text sequences (validation set)\n",
    "x_val_padded = [pad_sequence(s, max_text_len) for s in x_val]\n",
    "y_val_padded = [pad_sequence(s, max_text_len) for s in y_val]"
   ]
  },
  {
   "cell_type": "code",
   "execution_count": 38,
   "metadata": {},
   "outputs": [
    {
     "data": {
      "text/plain": [
       "['valkyria chronicles <pad> <pad> <pad> <pad> <pad> <pad> <pad> <pad> <pad> <pad> <pad> <pad> <pad> <pad> <pad> <pad> <pad> <pad> <pad> <pad> <pad> <pad> <pad>',\n",
       " 'senj no valkyria unk chronicles japanese lit valkyria of the battlefield commonly referred to as valkyria chronicles iii outside japan is a tactical role playing',\n",
       " 'no valkyria unk chronicles japanese lit valkyria of the battlefield commonly referred to as valkyria chronicles iii outside japan is a tactical role playing video',\n",
       " 'valkyria unk chronicles japanese lit valkyria of the battlefield commonly referred to as valkyria chronicles iii outside japan is a tactical role playing video game',\n",
       " 'unk chronicles japanese lit valkyria of the battlefield commonly referred to as valkyria chronicles iii outside japan is a tactical role playing video game developed']"
      ]
     },
     "execution_count": 38,
     "metadata": {},
     "output_type": "execute_result"
    }
   ],
   "source": [
    "x_tr_padded[:5]"
   ]
  },
  {
   "cell_type": "code",
   "execution_count": 39,
   "metadata": {},
   "outputs": [],
   "source": [
    "# update mapping dictionaries\n",
    "int2token[0] = \"<pad>\"\n",
    "token2int[\"<pad>\"] = 0\n",
    "\n",
    "# set vocabulary size\n",
    "vocab_size = len(int2token)"
   ]
  },
  {
   "cell_type": "markdown",
   "metadata": {},
   "source": [
    "## Convert Text Sequences to Integer Sequences"
   ]
  },
  {
   "cell_type": "code",
   "execution_count": 41,
   "metadata": {},
   "outputs": [],
   "source": [
    "# function to create integer sequences\n",
    "def get_integer_seq(seq):\n",
    "    return [token2int[w] for w in seq.split()]"
   ]
  },
  {
   "cell_type": "code",
   "execution_count": 42,
   "metadata": {},
   "outputs": [],
   "source": [
    "# convert text sequences to integer sequences\n",
    "x_tr_int = [get_integer_seq(i) for i in x_tr_padded]\n",
    "y_tr_int = [get_integer_seq(i) for i in y_tr_padded]\n",
    "\n",
    "x_val_int = [get_integer_seq(i) for i in x_val_padded]\n",
    "y_val_int = [get_integer_seq(i) for i in y_val_padded]"
   ]
  },
  {
   "cell_type": "code",
   "execution_count": 45,
   "metadata": {},
   "outputs": [
    {
     "data": {
      "text/plain": [
       "[8887,\n",
       " 16403,\n",
       " 15084,\n",
       " 24340,\n",
       " 6370,\n",
       " 18929,\n",
       " 19355,\n",
       " 4202,\n",
       " 4422,\n",
       " 21553,\n",
       " 15084,\n",
       " 20556,\n",
       " 2992,\n",
       " 23113,\n",
       " 10716,\n",
       " 6035,\n",
       " 14570,\n",
       " 5422,\n",
       " 8944,\n",
       " 20081,\n",
       " 20169,\n",
       " 5094,\n",
       " 12097,\n",
       " 15171,\n",
       " 12760]"
      ]
     },
     "execution_count": 45,
     "metadata": {},
     "output_type": "execute_result"
    }
   ],
   "source": [
    "x_tr_int[6]"
   ]
  },
  {
   "cell_type": "code",
   "execution_count": 47,
   "metadata": {},
   "outputs": [
    {
     "data": {
      "text/plain": [
       "[16403,\n",
       " 15084,\n",
       " 24340,\n",
       " 6370,\n",
       " 18929,\n",
       " 19355,\n",
       " 4202,\n",
       " 4422,\n",
       " 21553,\n",
       " 15084,\n",
       " 20556,\n",
       " 2992,\n",
       " 23113,\n",
       " 10716,\n",
       " 6035,\n",
       " 14570,\n",
       " 5422,\n",
       " 8944,\n",
       " 20081,\n",
       " 20169,\n",
       " 5094,\n",
       " 12097,\n",
       " 15171,\n",
       " 12760,\n",
       " 16252]"
      ]
     },
     "execution_count": 47,
     "metadata": {},
     "output_type": "execute_result"
    }
   ],
   "source": [
    "y_tr_int[6]"
   ]
  },
  {
   "cell_type": "code",
   "execution_count": 48,
   "metadata": {},
   "outputs": [
    {
     "data": {
      "text/plain": [
       "((1000000, 25), (1000000, 25), (297882, 25), (297882, 25))"
      ]
     },
     "execution_count": 48,
     "metadata": {},
     "output_type": "execute_result"
    }
   ],
   "source": [
    "# convert lists into numpy arrays\n",
    "x_tr_int = np.array(x_tr_int)\n",
    "y_tr_int = np.array(y_tr_int)\n",
    "\n",
    "x_val_int = np.array(x_val_int)\n",
    "y_val_int = np.array(y_val_int)\n",
    "\n",
    "x_tr_int.shape, y_tr_int.shape, x_val_int.shape, y_val_int.shape"
   ]
  },
  {
   "cell_type": "markdown",
   "metadata": {},
   "source": [
    "# Model Building\n",
    "## Define Model Architecture"
   ]
  },
  {
   "cell_type": "code",
   "execution_count": null,
   "metadata": {},
   "outputs": [],
   "source": [
    "# define model architecture\n",
    "\n",
    "## embedding layer: \n",
    "##    input dim = vocab_size, \n",
    "##    ouput dim = 200\n",
    "\n",
    "## LSTM layer:\n",
    "##    input dim = 200\n",
    "##    hidden units = 256\n",
    "##    layers = 2\n",
    "##    output dim = 256\n",
    "\n",
    "## Dropout Layer\n",
    "##    input dim = 256\n",
    "##    output dim = 256\n",
    "\n",
    "## fully connected layer\n",
    "##    input dim = 256\n",
    "##    ouput dim = vocab_size\n",
    "\n",
    "class WordLSTM(nn.Module):\n",
    "      \n",
    "  def __init__(self, n_hidden=256, n_layers=2, drop_prob=0.3, lr=0.001):\n",
    "    super().__init__()\n",
    "    self.drop_prob = drop_prob\n",
    "    self.n_layers = n_layers\n",
    "    self.n_hidden = n_hidden\n",
    "    self.lr = lr\n",
    "    \n",
    "    self.emb_layer = nn.Embedding(vocab_size, 200)\n",
    "\n",
    "    ## define the LSTM\n",
    "    # input data is of shape (batch size, sequence length, no. of features)...\n",
    "    # ...therefore we need batch_first=True\n",
    "    self.lstm = nn.LSTM(200, n_hidden, n_layers, batch_first=True)\n",
    "    \n",
    "    ## define a dropout layer\n",
    "    self.dropout = nn.Dropout(drop_prob)\n",
    "    \n",
    "    ## define the fully-connected layer\n",
    "    self.fc = nn.Linear(n_hidden, vocab_size)      \n",
    "  \n",
    "  def forward(self, x, hidden):\n",
    "    ''' Forward pass through the network. \n",
    "        These inputs are x, and the hidden/cell state is `hidden`. '''\n",
    "\n",
    "    ## pass input through embedding layer\n",
    "    embedded = self.emb_layer(x)     \n",
    "    \n",
    "    ## Get the outputs and the new hidden state from the lstm\n",
    "    lstm_output, hidden = self.lstm(embedded, hidden)\n",
    "    \n",
    "    ## pass through a dropout layer\n",
    "    out = self.dropout(lstm_output)\n",
    "    \n",
    "    ## reshape the tensor to the shape (batch-size*sequence length, hidden units)\n",
    "    out = out.reshape(-1, self.n_hidden)\n",
    "\n",
    "    ## put \"out\" through the fully-connected layer\n",
    "    out = self.fc(out)\n",
    "\n",
    "    # return the final output and the hidden state\n",
    "    return out, hidden\n",
    "    \n",
    "    \n",
    "  def init_hidden(self, batch_size):\n",
    "    ''' Initializes hidden state '''\n",
    "    # Create two new tensors with sizes n_layers x batch_size x n_hidden,\n",
    "    # initialized to zero, for hidden state and cell state of LSTM\n",
    "    weight = next(self.parameters()).data\n",
    "\n",
    "    if (torch.cuda.is_available()):\n",
    "      hidden = (weight.new(self.n_layers, batch_size, self.n_hidden).zero_().cuda(),\n",
    "                weight.new(self.n_layers, batch_size, self.n_hidden).zero_().cuda())\n",
    "    else:\n",
    "      hidden = (weight.new(self.n_layers, batch_size, self.n_hidden).zero_(),\n",
    "                weight.new(self.n_layers, batch_size, self.n_hidden).zero_())\n",
    "    \n",
    "    return hidden"
   ]
  },
  {
   "cell_type": "code",
   "execution_count": null,
   "metadata": {},
   "outputs": [],
   "source": [
    "# define and print the net\n",
    "net = WordLSTM()\n",
    "print(net)"
   ]
  },
  {
   "cell_type": "code",
   "execution_count": null,
   "metadata": {},
   "outputs": [],
   "source": [
    "# function to generate batches\n",
    "def get_batches(arr_x, arr_y, batch_size):\n",
    "  # iterate through the arrays\n",
    "  prv = 0\n",
    "  \n",
    "  for n in range(batch_size, arr_x.shape[0], batch_size):\n",
    "    # batch of input sequences\n",
    "    x = arr_x[prv:n,:]\n",
    "\n",
    "    # batch of target sequences\n",
    "    y = arr_y[prv:n,:]\n",
    "\n",
    "    prv = n\n",
    "    \n",
    "    yield x, y"
   ]
  },
  {
   "cell_type": "markdown",
   "metadata": {},
   "source": []
  },
  {
   "cell_type": "markdown",
   "metadata": {},
   "source": []
  },
  {
   "cell_type": "markdown",
   "metadata": {},
   "source": []
  }
 ],
 "metadata": {
  "kernelspec": {
   "display_name": "base",
   "language": "python",
   "name": "python3"
  },
  "language_info": {
   "codemirror_mode": {
    "name": "ipython",
    "version": 3
   },
   "file_extension": ".py",
   "mimetype": "text/x-python",
   "name": "python",
   "nbconvert_exporter": "python",
   "pygments_lexer": "ipython3",
   "version": "3.9.13"
  }
 },
 "nbformat": 4,
 "nbformat_minor": 2
}
