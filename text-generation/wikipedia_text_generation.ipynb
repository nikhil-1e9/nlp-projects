{
 "cells": [
  {
   "cell_type": "code",
   "execution_count": 1,
   "metadata": {},
   "outputs": [],
   "source": [
    "import numpy as np\n",
    "import pandas as pd\n",
    "\n",
    "import re\n",
    "import pickle\n",
    "import random\n",
    "from tqdm import tqdm_notebook\n",
    "\n",
    "import torch\n",
    "from torch import nn\n",
    "import torch.nn.functional as F"
   ]
  },
  {
   "cell_type": "code",
   "execution_count": 2,
   "metadata": {},
   "outputs": [
    {
     "data": {
      "text/plain": [
       "<torch._C.Generator at 0x18d92ad3c90>"
      ]
     },
     "execution_count": 2,
     "metadata": {},
     "output_type": "execute_result"
    }
   ],
   "source": [
    "# reproducing same results\n",
    "SEED = 42\n",
    "torch.manual_seed(SEED)"
   ]
  },
  {
   "cell_type": "markdown",
   "metadata": {},
   "source": [
    "# Load Dataset"
   ]
  },
  {
   "cell_type": "code",
   "execution_count": 5,
   "metadata": {},
   "outputs": [],
   "source": [
    "with open(\"wikitext-2/wiki-train.txt\", \"r\") as f:\n",
    "    text = f.readlines()"
   ]
  },
  {
   "cell_type": "code",
   "execution_count": 6,
   "metadata": {},
   "outputs": [
    {
     "data": {
      "text/plain": [
       "36718"
      ]
     },
     "execution_count": 6,
     "metadata": {},
     "output_type": "execute_result"
    }
   ],
   "source": [
    "len(text)"
   ]
  },
  {
   "cell_type": "code",
   "execution_count": 8,
   "metadata": {},
   "outputs": [
    {
     "data": {
      "text/plain": [
       "[' = = = Publication of Max and Moritz = = = \\n',\n",
       " ' \\n',\n",
       " ' \\n',\n",
       " ' After the Early Neolithic , the long barrow fell into a state of ruined <unk> , perhaps experiencing deliberate deposition in the late medieval period , either by Christian <unk> or treasure hunters . Local folklore grew up around the site , associating it with the burial of a prince and the countless stones motif . The ruin attracted the interest of <unk> in the 19th century , while archaeological excavation took place in the early 20th . After limited reconstruction , in 1926 ownership was transferred to heritage charity The National Trust . It is open without charge to visitors all year around . \\n',\n",
       " ' Changes from the standard Tu @-@ 2 were <unk> to speed production and they consisted of the following : \\n',\n",
       " ' \\n',\n",
       " ' The book has been reviewed in USA Today , Business Week , Energy Priorities , Sustainability Investment News and several other magazines , and has been translated into seven languages . Clean Tech Nation is the sequel to The Clean Tech Revolution . \\n',\n",
       " ' Upon its release in 1987 , the film was generally well received by critics . Rita <unk> , writing in The Washington Post suggested \" It \\'s all rather <unk> , with its <unk> hero on his spiritual quest , the atmosphere <unk> , <unk> to dance with once and future truths . \" Tom Hutchinson in the Mail on Sunday praised \" a script whose delight is in the rounded reality of its characters \" . Janet Maslin , writing in The New York Times praised O \\'Connor \\'s direction , suggesting it lent the film \" a strong sense of <unk> , as well as a spiritual quality more apparent in the look of the film than in its dialogue . \" Desmond Ryan of The Philadelphia Inquirer wrote \" Rarely has the impossibility of love been more <unk> presented than in the scenes of <unk> hope between Firth and Richardson . \\n',\n",
       " ' = = Releases = = \\n',\n",
       " \" There are a number of methods to determine the TBSA , including the Wallace rule of <unk> , Lund and <unk> chart , and <unk> based on a person 's palm size . The rule of <unk> is easy to remember but only accurate in people over 16 years of age . More accurate estimates can be made using Lund and <unk> charts , which take into account the different proportions of body parts in adults and children . The size of a person 's <unk> ( including the palm and fingers ) is approximately 1 % of their TBSA . \\n\"]"
      ]
     },
     "execution_count": 8,
     "metadata": {},
     "output_type": "execute_result"
    }
   ],
   "source": [
    "random.sample(text, 10)"
   ]
  },
  {
   "cell_type": "markdown",
   "metadata": {},
   "source": [
    "# Preprocessing Data\n",
    "## Text Cleaning"
   ]
  },
  {
   "cell_type": "code",
   "execution_count": 9,
   "metadata": {},
   "outputs": [],
   "source": [
    "# text cleaning\n",
    "text_clean = []\n",
    "\n",
    "for line in text:\n",
    "    # remove everything except alphabets\n",
    "    line = re.sub(\"[^a-zA-Z' ]\", \"\", line)\n",
    "    # convert text to lowercase\n",
    "    line = line.lower()\n",
    "    # add cleaned text to the list\n",
    "    text_clean.append(line)"
   ]
  },
  {
   "cell_type": "code",
   "execution_count": 13,
   "metadata": {},
   "outputs": [
    {
     "data": {
      "text/plain": [
       "[' ',\n",
       " \" creator matthew weiner said  far away places  was inspired by  unk french films  with  lots of short stories in them   with all three short stories linked by a thematic  desire to go away   he further explained that  peggy has this moment where she tries to be don and fails and then goes on peggy 's version of don  sexually irresponsible  and drunk  and working   elisabeth moss said the unk peggy gives a stranger in the theatre is a  moment of forgetting  after the frustrating heinz pitch  \",\n",
       " ' in mozambique  workers assisted people in moving to higher grounds following flooding  members of the mozambique red cross helped distribute food and clothing to the affected residents  and planes helped drop off supplies to residents in isolated areas  ',\n",
       " \" in the th century this image begun to unk  as a new wave in historiography begun to unk his life  and as the era of unk in poland put more value on builders  and less on warriors  further  at that time the polish historians begun to question the traditional view of the  ukrainian problem   and the way that the polish noble class had dealt with the cossacks  slowly  winiowiecki 's image as a hero began to unk  with various aspects of his life and personality being questioned and criticized in the work of historians such as karol unk and unk unk  \",\n",
       " ' europium was first found in  by paul mile unk de unk  who obtained basic fractions from samarium  gadolinium concentrates which had spectral lines not accounted for by samarium or gadolinium  however  the discovery of europium is generally credited to french chemist eugne  unk unk  who suspected samples of the recently discovered element samarium were contaminated with an unknown element in  and who was able to isolate it in   he then named it europium  ',\n",
       " \" with little guidance on water allocation from the supreme court  proponents of the dam feared endless litigation  a colorado attorney proposed that the seven states which fell within the river 's basin  california  nevada  arizona  utah  new mexico  colorado and wyoming  form an unk compact  with the approval of congress  such unk were authorized by article i of the united states constitution but had never been concluded among more than two states  in   representatives of seven states met with then  secretary of commerce herbert hoover  initial talks produced no result  but when the supreme court handed down the wyoming v colorado decision unk the claims of the upstream states  they became anxious to reach an agreement  the resulting colorado river compact was signed on november     \",\n",
       " ' the adams river valley supports large populations of mule deer  with smaller herds of white  tail deer  black bears are common in the watershed  the bear population grows substantially during the fall as they gather from adjacent valleys to feed on the spawning salmon  in the upper river valley  moose are common  and the headwaters of the river contain grizzly bear habitat  several species of aquatic mammals are found on the river  including beaver  mink  and river otter  ',\n",
       " \" while the album 's development was underway  carey expressed interest in working with jermaine dupri  whom she had been a fan of since his  song   jump   soon after  carey  dupri  and manuel seal began composing a song for the album  as seal played the piano  carey began unk and playing with certain notes in the b  section  until she came up with the chorus for  always be my baby   after the rest of the song was written and composed  carey recorded the song alongside longtime background singers kelly price  unk price  and unk daniels  together  they built  a wall of background voices  in which she would cover with her final belting notes  the song featured a unk rhythm  while its composition was described as  sassy and soft r  b  which displayed a  sexy and slow jam    underneath the stars  was the first song recorded for daydream  the song featured a  ' s soul vibe  as well as synthetic record unk  in order to the give the song an authentic ' s sound  carey felt the additions were simple steps taken to further display a contemporary r  b groove  additionally  she felt the song paid homage to the style of minnie unk  who was one of carey 's biggest vocal influences growing up  the song had a soft sound  and had  a lot  sic  of texture  and bass  showing a more creative side to carey  \",\n",
       " ' it was also reported that the storm damaged at least    homes and about  square kilometers   thousand acres  of land used for cattle  in addition over  square kilometers   thousand acres  of various crops  including sugarcane  corn and unk  were flooded  many boats were also lost as a result of jose   active medical brigades were sent to the region to reduce the risk of infections amongst the affected population  ',\n",
       " \" with several unk during the war  it was a new  look side that took to the field for the    season  when league football resumed  the th  place finish in the league was city 's lowest since their first season in division one  and a fourth  round fa cup exit away at bristol city was blamed on a pre  game trip to fry 's chocolate works  it was a position replicated the following season  after ten campaigns in division one  city were relegated back to division two  when they lost all of their final five games of the    season  it would be  years until bradford city again competed in the top division of english football  \"]"
      ]
     },
     "execution_count": 13,
     "metadata": {},
     "output_type": "execute_result"
    }
   ],
   "source": [
    "random.sample(text_clean, 10)"
   ]
  },
  {
   "cell_type": "markdown",
   "metadata": {},
   "source": [
    "## Find word counts"
   ]
  },
  {
   "cell_type": "code",
   "execution_count": 14,
   "metadata": {},
   "outputs": [],
   "source": [
    "# get list of all the words\n",
    "all_words = \" \".join(text_clean).split()\n",
    "\n",
    "words_dict = {}\n",
    "\n",
    "# add word-count pair to the dictionary\n",
    "for word in all_words:\n",
    "    words_dict[word] = words_dict.get(word, 0) + 1"
   ]
  },
  {
   "cell_type": "code",
   "execution_count": 15,
   "metadata": {},
   "outputs": [],
   "source": [
    "# prepare a dataframe\n",
    "words_df = pd.DataFrame({'word':list(words_dict.keys()), 'count':list(words_dict.values())})\n",
    "\n",
    "# sort words by their count in increasing order\n",
    "words_df = words_df.sort_values(by='count')\n",
    "\n",
    "# reset dataframe index\n",
    "words_df.reset_index(inplace=True, drop=True)"
   ]
  },
  {
   "cell_type": "code",
   "execution_count": 16,
   "metadata": {},
   "outputs": [
    {
     "data": {
      "text/plain": [
       "27306"
      ]
     },
     "execution_count": 16,
     "metadata": {},
     "output_type": "execute_result"
    }
   ],
   "source": [
    "# vocabulary size\n",
    "len(words_df)"
   ]
  },
  {
   "cell_type": "code",
   "execution_count": 20,
   "metadata": {},
   "outputs": [
    {
     "data": {
      "text/html": [
       "<div>\n",
       "<style scoped>\n",
       "    .dataframe tbody tr th:only-of-type {\n",
       "        vertical-align: middle;\n",
       "    }\n",
       "\n",
       "    .dataframe tbody tr th {\n",
       "        vertical-align: top;\n",
       "    }\n",
       "\n",
       "    .dataframe thead th {\n",
       "        text-align: right;\n",
       "    }\n",
       "</style>\n",
       "<table border=\"1\" class=\"dataframe\">\n",
       "  <thead>\n",
       "    <tr style=\"text-align: right;\">\n",
       "      <th></th>\n",
       "      <th>word</th>\n",
       "      <th>count</th>\n",
       "    </tr>\n",
       "  </thead>\n",
       "  <tbody>\n",
       "    <tr>\n",
       "      <th>0</th>\n",
       "      <td>gallinae</td>\n",
       "      <td>3</td>\n",
       "    </tr>\n",
       "    <tr>\n",
       "      <th>1</th>\n",
       "      <td>cabins</td>\n",
       "      <td>3</td>\n",
       "    </tr>\n",
       "    <tr>\n",
       "      <th>2</th>\n",
       "      <td>baroness</td>\n",
       "      <td>3</td>\n",
       "    </tr>\n",
       "    <tr>\n",
       "      <th>3</th>\n",
       "      <td>genoa</td>\n",
       "      <td>3</td>\n",
       "    </tr>\n",
       "    <tr>\n",
       "      <th>4</th>\n",
       "      <td>spotting</td>\n",
       "      <td>3</td>\n",
       "    </tr>\n",
       "  </tbody>\n",
       "</table>\n",
       "</div>"
      ],
      "text/plain": [
       "       word  count\n",
       "0  gallinae      3\n",
       "1    cabins      3\n",
       "2  baroness      3\n",
       "3     genoa      3\n",
       "4  spotting      3"
      ]
     },
     "execution_count": 20,
     "metadata": {},
     "output_type": "execute_result"
    }
   ],
   "source": [
    "words_df.head()"
   ]
  },
  {
   "cell_type": "code",
   "execution_count": 18,
   "metadata": {},
   "outputs": [
    {
     "data": {
      "text/html": [
       "<div>\n",
       "<style scoped>\n",
       "    .dataframe tbody tr th:only-of-type {\n",
       "        vertical-align: middle;\n",
       "    }\n",
       "\n",
       "    .dataframe tbody tr th {\n",
       "        vertical-align: top;\n",
       "    }\n",
       "\n",
       "    .dataframe thead th {\n",
       "        text-align: right;\n",
       "    }\n",
       "</style>\n",
       "<table border=\"1\" class=\"dataframe\">\n",
       "  <thead>\n",
       "    <tr style=\"text-align: right;\">\n",
       "      <th></th>\n",
       "      <th>word</th>\n",
       "      <th>count</th>\n",
       "    </tr>\n",
       "  </thead>\n",
       "  <tbody>\n",
       "    <tr>\n",
       "      <th>27301</th>\n",
       "      <td>in</td>\n",
       "      <td>44982</td>\n",
       "    </tr>\n",
       "    <tr>\n",
       "      <th>27302</th>\n",
       "      <td>and</td>\n",
       "      <td>50735</td>\n",
       "    </tr>\n",
       "    <tr>\n",
       "      <th>27303</th>\n",
       "      <td>unk</td>\n",
       "      <td>54625</td>\n",
       "    </tr>\n",
       "    <tr>\n",
       "      <th>27304</th>\n",
       "      <td>of</td>\n",
       "      <td>57030</td>\n",
       "    </tr>\n",
       "    <tr>\n",
       "      <th>27305</th>\n",
       "      <td>the</td>\n",
       "      <td>130768</td>\n",
       "    </tr>\n",
       "  </tbody>\n",
       "</table>\n",
       "</div>"
      ],
      "text/plain": [
       "      word   count\n",
       "27301   in   44982\n",
       "27302  and   50735\n",
       "27303  unk   54625\n",
       "27304   of   57030\n",
       "27305  the  130768"
      ]
     },
     "execution_count": 18,
     "metadata": {},
     "output_type": "execute_result"
    }
   ],
   "source": [
    "words_df.tail()"
   ]
  },
  {
   "cell_type": "code",
   "execution_count": null,
   "metadata": {},
   "outputs": [],
   "source": [
    "# user specified threshold value\n",
    "rare_thresh = 4\n",
    "\n",
    "# get percentage of rare words in the vocabulary\n",
    "rare_words_count = len(words_df[words_df['count'] < rare_thresh]['word'])\n",
    "total_words = len(words_df) \n",
    "rare_dist = rare_words_count / total_words\n",
    "\n",
    "# coverage percentage of rare words in the corpus\n",
    "rare_cover = words_df[words_df['count'] < rare_thresh]['count'].sum()/words_df['count'].sum()"
   ]
  },
  {
   "cell_type": "code",
   "execution_count": null,
   "metadata": {},
   "outputs": [],
   "source": []
  },
  {
   "cell_type": "code",
   "execution_count": null,
   "metadata": {},
   "outputs": [],
   "source": []
  },
  {
   "cell_type": "code",
   "execution_count": null,
   "metadata": {},
   "outputs": [],
   "source": []
  },
  {
   "cell_type": "code",
   "execution_count": null,
   "metadata": {},
   "outputs": [],
   "source": []
  },
  {
   "cell_type": "code",
   "execution_count": null,
   "metadata": {},
   "outputs": [],
   "source": []
  },
  {
   "cell_type": "code",
   "execution_count": null,
   "metadata": {},
   "outputs": [],
   "source": []
  }
 ],
 "metadata": {
  "kernelspec": {
   "display_name": "base",
   "language": "python",
   "name": "python3"
  },
  "language_info": {
   "codemirror_mode": {
    "name": "ipython",
    "version": 3
   },
   "file_extension": ".py",
   "mimetype": "text/x-python",
   "name": "python",
   "nbconvert_exporter": "python",
   "pygments_lexer": "ipython3",
   "version": "3.9.13"
  }
 },
 "nbformat": 4,
 "nbformat_minor": 2
}
